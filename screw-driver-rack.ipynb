{
 "cells": [
  {
   "cell_type": "code",
   "execution_count": 1,
   "id": "393d5015-f7d3-4ab0-8dba-883f79d5b2fe",
   "metadata": {},
   "outputs": [
    {
     "name": "stdout",
     "output_type": "stream",
     "text": [
      "Overwriting auto display for cadquery Workplane and Shape\n",
      "\n",
      "Enabling jupyter_cadquery replay\n"
     ]
    }
   ],
   "source": [
    "import cadquery as cq\n",
    "from jupyter_cadquery import (\n",
    "    open_viewer,\n",
    "    set_defaults,\n",
    "    show\n",
    ")\n",
    "from jupyter_cadquery.replay import replay, enable_replay\n",
    "set_defaults(axes=True, timeit=False, axes0=True)\n",
    "cv = open_viewer(\"Examples\", cad_width=640, height=400, glass=True)\n",
    "enable_replay(False, False)\n",
    "show_object = replay"
   ]
  },
  {
   "cell_type": "code",
   "execution_count": 2,
   "id": "ea8b41c3",
   "metadata": {},
   "outputs": [],
   "source": [
    "# inputs\n",
    "length = 420\n",
    "egde_width = 18\n",
    "off_center = 6 # move the pockets off center (to the side) this amount\n",
    "breadth = 54  # Breadth of the half the final part\n",
    "\n",
    "# tuple of shaft diameter and handle diameter (at the lowest point of the handle)\n",
    "flat = (\n",
    "    (3, 14),\n",
    "    (3.5, 16),\n",
    "    (4, 18),\n",
    "    (5, 20),\n",
    "    (6, 22),\n",
    "    (7, 25),\n",
    ")\n",
    "ph_and_pz = (\n",
    "    (6, 22 + 0.4),\n",
    "    (5, 18 + 0.4),\n",
    "    (4, 14),\n",
    "    (5, 18),\n",
    "    (6, 22),\n",
    "    (8, 28 + 0.6),\n",
    ")\n",
    "hex_ = (\n",
    "    (2.5, 12.5),\n",
    "    (2.5, 12.5),\n",
    "    (2.8, 12.5),\n",
    "    (3.3, 14),\n",
    "    (4.5, 17),\n",
    "    (5.5, 18 + 0.4),\n",
    "    (6.7, 20 + 0.8),\n",
    ")\n",
    "torx = (\n",
    "    (3, 14),\n",
    "    (3.5, 14),\n",
    "    (3.5, 16.5),\n",
    "    (4, 18),\n",
    "    (5, 20),\n",
    "    (6, 22),\n",
    ")\n",
    "\n",
    "screw_drivers_a = [*flat, *ph_and_pz]\n",
    "screw_drivers_b = [*reversed(hex_), *torx]\n"
   ]
  },
  {
   "cell_type": "code",
   "execution_count": 3,
   "id": "eb1206ae-3978-42ef-98fd-edf25d99a50a",
   "metadata": {},
   "outputs": [],
   "source": [
    "def slot_sketch(w, d=50, z=0):\n",
    "    return (\n",
    "        cq.Sketch()\n",
    "        .arc((0, 0), w / 2, 0, 180.0)\n",
    "        .segment((-w / 2, -d))\n",
    "        .segment((w / 2, -d))\n",
    "        .close()\n",
    "        .assemble()\n",
    "        .moved(cq.Location(cq.Vector(0, 0, z)))\n",
    "        .edges()\n",
    "    )\n",
    "\n",
    "\n",
    "def cut_out_for_one_screwdriver(handle, shaft):\n",
    "    handle_slot = handle + 1.4\n",
    "    slot_width_top = shaft + 4\n",
    "    slot_width_bot = shaft + 0.5\n",
    "\n",
    "    result = (\n",
    "        cq.Workplane()\n",
    "        .placeSketch(\n",
    "            slot_sketch(slot_width_top, z=0),\n",
    "            slot_sketch(slot_width_bot, z=-15),\n",
    "            slot_sketch(slot_width_bot, z=-200),\n",
    "        )\n",
    "        .loft(ruled=True)\n",
    "        .faces(\">Z\")\n",
    "        .wires()\n",
    "        .toPending()\n",
    "        .extrude(30)\n",
    "        .moveTo()\n",
    "        .workplane(offset=-3.0)\n",
    "        .circle(slot_width_bot / 2)\n",
    "        .workplane(offset=handle_slot / 4)\n",
    "        .circle(handle_slot / 2 - 2)\n",
    "        .workplane(offset=0.4)\n",
    "        .circle(handle_slot / 2 - 0.4)\n",
    "        .workplane(offset=0.5)\n",
    "        .circle(handle_slot / 2)\n",
    "        .workplane(offset=5.0)\n",
    "        .circle(handle_slot / 2)\n",
    "        .workplane(offset=40.0)\n",
    "        .circle(handle_slot / 2 + 15)\n",
    "        .loft(ruled=True)\n",
    "    ).translate((0, 0, -16))\n",
    "    return result\n",
    "show(cut_out_for_one_screwdriver(handle=16, shaft=4)).export_png(\"images/cut_out.png\")"
   ]
  },
  {
   "cell_type": "markdown",
   "id": "5da562f9-8c46-4d84-91f8-94301a7554fa",
   "metadata": {},
   "source": [
    "![images/cut_out.png](images/cut_out.png)"
   ]
  },
  {
   "cell_type": "code",
   "execution_count": 4,
   "id": "6f332c75-b928-472a-a98b-eae196b242be",
   "metadata": {},
   "outputs": [],
   "source": [
    "\n",
    "def handle_to_spacing(handle):\n",
    "    return (handle + 4) * 1.5\n",
    "\n",
    "def combine_pockets(inputs):\n",
    "    x_offset = egde_width\n",
    "    remainder_length = (\n",
    "        length\n",
    "        - egde_width * 2\n",
    "        - sum(handle_to_spacing(handle) for _, handle in inputs)\n",
    "    )\n",
    "    pockets = cq.Workplane(\"XY\")\n",
    "    for shaft, handle in inputs:\n",
    "        block_width = handle_to_spacing(handle) + remainder_length / len(inputs)\n",
    "        pocket = cut_out_for_one_screwdriver(handle, shaft)\n",
    "        pockets = pockets.union(pocket.translate((x_offset + block_width / 2, 0, 0)))\n",
    "        x_offset += block_width  # Adjust the offset for the next pocket\n",
    "    return pockets\n",
    "\n",
    "pockets_a = combine_pockets(screw_drivers_a)\n",
    "pockets_b = combine_pockets(screw_drivers_b)\n",
    "show(pockets_b).export_png(\"images/pockets_b.png\")"
   ]
  },
  {
   "cell_type": "markdown",
   "id": "995d78d8-e760-4cd6-8178-1a78f2746d5e",
   "metadata": {},
   "source": [
    "![images/pockets_b.png](images/pockets_b.png)"
   ]
  },
  {
   "cell_type": "code",
   "execution_count": 5,
   "id": "47521a91-b549-40ee-a98a-0deb6bbe5af3",
   "metadata": {},
   "outputs": [],
   "source": [
    "# these are the pockets for the poles supporting the final holder\n",
    "pole = (\n",
    "    cq.Workplane(\"XY\")\n",
    "    .transformed(rotate=(-8, 0, 0))\n",
    "    .circle(6.7)\n",
    "    .workplane(offset=-16)\n",
    "    .circle(7.5)\n",
    "    .loft()\n",
    "    .faces(\"<Z\")\n",
    "    .wires()\n",
    "    .toPending()\n",
    "    .extrude(-150)\n",
    ")\n",
    "\n",
    "def generate_holder(block):\n",
    "    # Set the dimensions for the design\n",
    "    height = 40  # Height of the object\n",
    "    offset = 4  # Offset value for positioning\n",
    "    outer_fillet = 30  # Fillet radius on the under / outer edge\n",
    "    inner_fillet = 15 # Fillet radius on the top / inner edge\n",
    "    # Start constructing the object\n",
    "    result = (\n",
    "        cq.Workplane(\"XY\")\n",
    "        .move(length / 2, offset)  # Positioning the workplane\n",
    "        .rect(length, breadth)  # Creating a rectangle on the workplane\n",
    "        .extrude(-height)  # Extruding the rectangle to create a 3D shape\n",
    "        .cut(\n",
    "            block.rotate((0, 0, 0), (10, 0, 0), 7)\n",
    "        )  # Cutting the shape with a rotated block\n",
    "        .edges(\"<Y and (not >Z) and (not <Z)\")  # Selecting specific edges\n",
    "        .fillet(5)\n",
    "    )  # Applying a fillet of radius 5 to the selected edges\n",
    "\n",
    "    # Further modifications to the object\n",
    "    result = (\n",
    "        result.faces(\"<X\")  # Selecting the face on the -X side\n",
    "        .workplane()  # Creating a new workplane on the selected face\n",
    "        .move(\n",
    "            breadth / 2 - offset, -height + outer_fillet\n",
    "        )  # Positioning on the new workplane\n",
    "        .vLine(-outer_fillet)  # Drawing a vertical line\n",
    "        .hLine(-outer_fillet)  # Drawing a horizontal line\n",
    "        .close()  # Closing the sketch to form a loop\n",
    "        .cutThruAll()\n",
    "    )  # Cutting through the entire object along the sketch\n",
    "\n",
    "    for point in (\n",
    "        result.faces(\">Z\")\n",
    "        .workplane(centerOption=\"CenterOfBoundBox\", offset=5)\n",
    "        .rarray(length - 21, breadth, 2, 1)\n",
    "    ).vals():\n",
    "        result = result.cut(pole.translate(point))\n",
    "\n",
    "    result = (\n",
    "        result.faces(\"<X\")  # Selecting the face on the -X side\n",
    "        .workplane()  # Creating a new workplane on the selected face\n",
    "        .move(-breadth / 2 - 4, -inner_fillet)\n",
    "        .vLine(inner_fillet)  # Drawing a vertical line\n",
    "        .hLine(inner_fillet)\n",
    "        .close()  # Closing the sketch to form a loop\n",
    "        .cutThruAll()  # Cutting through the entire object along the sketch\n",
    "    )\n",
    "\n",
    "    result = result.translate((0, -breadth / 2 - 4, 0))\n",
    "    return result\n",
    "\n",
    "\n",
    "result = generate_holder(pockets_a)\n",
    "show(result).export_png(\"images/result_a.png\")"
   ]
  },
  {
   "cell_type": "markdown",
   "id": "c4dfe106-9a46-4711-9608-0e6b596e3640",
   "metadata": {},
   "source": [
    "![images/result_a.png](images/result_a.png)"
   ]
  },
  {
   "cell_type": "code",
   "execution_count": 6,
   "id": "4db40943-cbbe-4662-b4ca-d46467d640f2",
   "metadata": {
    "tags": []
   },
   "outputs": [],
   "source": [
    "result = generate_holder(pockets_a)\n",
    "result = result.mirror(result.faces(\">Y\")).union(generate_holder(pockets_b))\n",
    "result\n",
    "show(result).export_png(\"images/result_combined.png\")"
   ]
  },
  {
   "cell_type": "markdown",
   "id": "3bcb431b-9f44-4763-a85a-e3693761ee95",
   "metadata": {},
   "source": [
    "![result_combined.png](result_combined.png)"
   ]
  },
  {
   "cell_type": "code",
   "execution_count": 7,
   "id": "8bef9cdf-6532-49e4-bf8f-96f5440bf316",
   "metadata": {},
   "outputs": [],
   "source": [
    "# Cut part in two halves using dovetail joints so it fits on my printer\n",
    "# the paramaters below are a bit janky, but they work for me\n",
    "d = 0.2  # cut width (will influence the fit, depends strongly on printer and settings)\n",
    "v = -6.5  # move cut line on \"north\" side of the part so it will not intersect a screwdriver pocket\n",
    "w = 5.3  # move cut line on \"south\" side of the part so it will not intersect a screwdriver pocket\n",
    "e = 3.6  # 1/4 width of the dovetail\n",
    "f = 5  # depth of the dovetail\n",
    "cut_height = 100\n",
    "# the following two lines are a very specific correction for a bug in (I presume) the cadkernel.\n",
    "random_number_for_cadkernel_bug = 4  # If zero, the sweep completely blows up\n",
    "silly_correction_because_of_cadkernel_bug = 0.32  # the cut should go through the center, but somehow it does not. This is a hack to fix that.\n",
    "path = (\n",
    "    cq.Workplane(\"XY\")\n",
    "    .center(length / 2, random_number_for_cadkernel_bug)\n",
    "    .moveTo(v, breadth+2)\n",
    "    .lineTo(v, 5 * e)\n",
    "    .line(f, e)\n",
    "    .line(0, -4 * e)\n",
    "    .line(-f, e)\n",
    "    .lineTo(v, 0)\n",
    "    .lineTo(w, 0)\n",
    "    .line(0, -3 * e)\n",
    "    .line(-f, e)\n",
    "    .line(0, -4 * e)\n",
    "    .line(f, e)\n",
    "    .lineTo(w, -breadth-2)\n",
    "    .wire()\n",
    ")\n",
    "path\n",
    "\n",
    "dovetail_cut = (\n",
    "    cq.Workplane(\"XZ\")\n",
    "    .workplane(offset=random_number_for_cadkernel_bug)\n",
    "    .center(length / 2, 0)\n",
    "    .rect(d, cut_height)\n",
    "    .sweep(path)\n",
    "    .translate(\n",
    "        (\n",
    "            0,\n",
    "            - random_number_for_cadkernel_bug\n",
    "            + silly_correction_because_of_cadkernel_bug,\n",
    "            0,\n",
    "        )\n",
    "    )\n",
    ")\n",
    "show(dovetail_cut).export_png(\"images/dovetail_cut.png\")"
   ]
  },
  {
   "cell_type": "markdown",
   "id": "6acc5f46-c563-44d6-ba57-5abce0865a06",
   "metadata": {},
   "source": [
    "![images/dovetail_cut.png](images/dovetail_cut.png)"
   ]
  },
  {
   "cell_type": "code",
   "execution_count": 8,
   "id": "38d344c3-920d-4513-ae13-3b046e198284",
   "metadata": {},
   "outputs": [],
   "source": [
    "# cut out the dovetail cut, splitting the part in two solids\n",
    "result = result.cut(dovetail_cut)\n",
    "show(result).export_png(\"images/screw-driver-rack-split.png\")"
   ]
  },
  {
   "cell_type": "markdown",
   "id": "723f2777-3039-4868-86c4-b278e43abfa6",
   "metadata": {},
   "source": [
    "![images/screw-driver-rack-split.png](images/screw-driver-rack-split.png)"
   ]
  },
  {
   "cell_type": "code",
   "execution_count": 9,
   "id": "911a4ab4-0c86-45f2-a1f6-4f556d23aa3d",
   "metadata": {},
   "outputs": [],
   "source": [
    "# flip parts to enable print without infill or support\n",
    "part_a = result.solids(\">X\").rotate((0, 0, 0), (0, 1, 0), 180)\n",
    "part_b = result.solids(\"<X\").rotate((0, 0, 0), (0, 1, 0), 180)\n",
    "\n",
    "cq.exporters.export(part_a, \"screw-driver-rack-a.step\")\n",
    "show(part_a).export_png(\"images/screw-driver-rack-a.png\")"
   ]
  },
  {
   "cell_type": "markdown",
   "id": "599a05a6-b4ed-45c2-a559-763ca750323d",
   "metadata": {},
   "source": [
    "![images/screw-driver-rack-a.png](images/screw-driver-rack-a.png)"
   ]
  },
  {
   "cell_type": "code",
   "execution_count": 10,
   "id": "0f82f141-b329-419b-9403-11072e812fe9",
   "metadata": {},
   "outputs": [],
   "source": [
    "cq.exporters.export(part_b, \"screw-driver-rack-b.step\")\n",
    "show(part_b).export_png(\"images/screw-driver-rack-b.png\")"
   ]
  },
  {
   "cell_type": "markdown",
   "id": "9b2f32a0-26b6-4bab-99a6-c51b7b92e776",
   "metadata": {},
   "source": [
    "![images/screw-driver-rack-b.png](images/screw-driver-rack-b.png)"
   ]
  }
 ],
 "metadata": {
  "kernelspec": {
   "display_name": "Python 3 (ipykernel)",
   "language": "python",
   "name": "python3"
  },
  "language_info": {
   "codemirror_mode": {
    "name": "ipython",
    "version": 3
   },
   "file_extension": ".py",
   "mimetype": "text/x-python",
   "name": "python",
   "nbconvert_exporter": "python",
   "pygments_lexer": "ipython3",
   "version": "3.10.13"
  }
 },
 "nbformat": 4,
 "nbformat_minor": 5
}
